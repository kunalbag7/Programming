{
 "cells": [
  {
   "cell_type": "code",
   "execution_count": 6,
   "metadata": {},
   "outputs": [
    {
     "name": "stdout",
     "output_type": "stream",
     "text": [
      "37.68\n",
      "37.68\n"
     ]
    }
   ],
   "source": [
    "def cone(h,r=1,p=3.14):\n",
    "    c=(1.0/3.0)*h*p*pow(r,2)\n",
    "    return c\n",
    "\n",
    "print(cone(r=3,h=4))\n",
    "print(cone(4,3))"
   ]
  },
  {
   "cell_type": "code",
   "execution_count": 11,
   "metadata": {},
   "outputs": [
    {
     "name": "stdout",
     "output_type": "stream",
     "text": [
      "64\n"
     ]
    }
   ],
   "source": [
    "def sqsq(f,s):\n",
    "#     f=f*f\n",
    "    s=(s+f)**3\n",
    "    return f,s\n",
    "    \n",
    "sq=sqsq(2,2)[1]\n",
    "\n",
    "print(sq)\n",
    "# print(qu)"
   ]
  },
  {
   "cell_type": "code",
   "execution_count": 2,
   "metadata": {},
   "outputs": [
    {
     "name": "stdout",
     "output_type": "stream",
     "text": [
      "[1, 5]\n"
     ]
    }
   ],
   "source": [
    "tuple=(1,3,5,7,1,5,5)\n",
    "s=[]\n",
    "for i in tuple:\n",
    "    if(tuple.count(i)>1):\n",
    "        if(i not in s):\n",
    "            s.append(i)\n",
    "\n",
    "print(s)"
   ]
  },
  {
   "cell_type": "code",
   "execution_count": 4,
   "metadata": {},
   "outputs": [
    {
     "name": "stdout",
     "output_type": "stream",
     "text": [
      "[0, 5, 0, 6, 0, 8, 0, 4, 0, 2]\n"
     ]
    }
   ],
   "source": [
    "list=[5,6,8,4,2]\n",
    "list2=[]\n",
    "a=0\n",
    "for i in list:\n",
    "    list2.append(a)\n",
    "    list2.append(i)\n",
    "    \n",
    "print(list2)"
   ]
  }
 ],
 "metadata": {
  "kernelspec": {
   "display_name": "Python 3",
   "language": "python",
   "name": "python3"
  },
  "language_info": {
   "codemirror_mode": {
    "name": "ipython",
    "version": 3
   },
   "file_extension": ".py",
   "mimetype": "text/x-python",
   "name": "python",
   "nbconvert_exporter": "python",
   "pygments_lexer": "ipython3",
   "version": "3.8.5"
  }
 },
 "nbformat": 4,
 "nbformat_minor": 4
}
