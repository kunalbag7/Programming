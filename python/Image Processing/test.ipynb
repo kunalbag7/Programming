{
 "metadata": {
  "language_info": {
   "codemirror_mode": {
    "name": "ipython",
    "version": 3
   },
   "file_extension": ".py",
   "mimetype": "text/x-python",
   "name": "python",
   "nbconvert_exporter": "python",
   "pygments_lexer": "ipython3",
   "version": "3.8.5-final"
  },
  "orig_nbformat": 2,
  "kernelspec": {
   "name": "Python 3.8.5 32-bit",
   "display_name": "Python 3.8.5 32-bit",
   "metadata": {
    "interpreter": {
     "hash": "834baf801a1c53efb59c84ebe1561470e0a4bfe40e75c018efef599a6217318e"
    }
   }
  }
 },
 "nbformat": 4,
 "nbformat_minor": 2,
 "cells": [
  {
   "cell_type": "code",
   "execution_count": 8,
   "metadata": {
    "tags": []
   },
   "outputs": [
    {
     "output_type": "stream",
     "name": "stdout",
     "text": "Input  number :  10\nbinary representation of 10 :  0\n"
    }
   ],
   "source": [
    "import numpy as geek \n",
    "in_num = 10\n",
    "  \n",
    "print (\"Input  number : \", in_num) \n",
    "  \n",
    "out_num = geek.binary_repr(in_num)  \n",
    "print (\"binary representation of 10 : \", out_num[3])"
   ]
  },
  {
   "cell_type": "code",
   "execution_count": 5,
   "metadata": {
    "tags": []
   },
   "outputs": [
    {
     "output_type": "stream",
     "name": "stdout",
     "text": "61\n"
    },
    {
     "output_type": "execute_result",
     "data": {
      "text/plain": "'111101'"
     },
     "metadata": {},
     "execution_count": 5
    }
   ],
   "source": [
    "import numpy as np\n",
    "A=244\n",
    "B=A>>2\n",
    "#print(B)\n",
    "#np.binary_repr(A)\n",
    "np.binary_repr(B)"
   ]
  },
  {
   "cell_type": "code",
   "execution_count": 21,
   "metadata": {
    "tags": []
   },
   "outputs": [],
   "source": [
    "for i in range(9,7):\n",
    "    print(i)\n"
   ]
  },
  {
   "cell_type": "code",
   "execution_count": 12,
   "metadata": {
    "tags": []
   },
   "outputs": [
    {
     "output_type": "stream",
     "name": "stdout",
     "text": "60\n"
    }
   ],
   "source": [
    "i = 15\n",
    "j= 20\n",
    "i = i<<2\n",
    "print(i)"
   ]
  },
  {
   "cell_type": "code",
   "execution_count": 15,
   "metadata": {
    "tags": []
   },
   "outputs": [
    {
     "output_type": "stream",
     "name": "stdout",
     "text": "104\n"
    }
   ],
   "source": [
    "print(106 & 252)"
   ]
  },
  {
   "cell_type": "code",
   "execution_count": 8,
   "metadata": {},
   "outputs": [
    {
     "output_type": "stream",
     "name": "stdout",
     "text": [
      "\nalltrue of x =  True\n"
     ]
    }
   ],
   "source": [
    "import numpy as np\n",
    "struc_ele=np.array([[255,255,255],[255,255,255],[255,255,255]])\n",
    "struc_ele1=np.array([[255,255,255],[255,255,55],[255,255,255]])\n",
    "print('\\nalltrue of x = ', np.alltrue(np.equal(struc_ele,struc_ele1)))"
   ]
  },
  {
   "cell_type": "code",
   "execution_count": null,
   "metadata": {},
   "outputs": [],
   "source": []
  }
 ]
}