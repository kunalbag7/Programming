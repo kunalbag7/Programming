{
 "metadata": {
  "language_info": {
   "codemirror_mode": {
    "name": "ipython",
    "version": 3
   },
   "file_extension": ".py",
   "mimetype": "text/x-python",
   "name": "python",
   "nbconvert_exporter": "python",
   "pygments_lexer": "ipython3",
   "version": "3.8.5-final"
  },
  "orig_nbformat": 2,
  "kernelspec": {
   "name": "python3",
   "display_name": "Python 3.8.5 32-bit",
   "metadata": {
    "interpreter": {
     "hash": "834baf801a1c53efb59c84ebe1561470e0a4bfe40e75c018efef599a6217318e"
    }
   }
  }
 },
 "nbformat": 4,
 "nbformat_minor": 2,
 "cells": [
  {
   "cell_type": "code",
   "execution_count": 8,
   "metadata": {
    "tags": []
   },
   "outputs": [
    {
     "output_type": "stream",
     "name": "stdout",
     "text": "Input  number :  10\nbinary representation of 10 :  0\n"
    }
   ],
   "source": [
    "import numpy as geek \n",
    "in_num = 10\n",
    "  \n",
    "print (\"Input  number : \", in_num) \n",
    "  \n",
    "out_num = geek.binary_repr(in_num)  \n",
    "print (\"binary representation of 10 : \", out_num[3])"
   ]
  },
  {
   "cell_type": "code",
   "execution_count": 5,
   "metadata": {
    "tags": []
   },
   "outputs": [
    {
     "output_type": "stream",
     "name": "stdout",
     "text": "61\n"
    },
    {
     "output_type": "execute_result",
     "data": {
      "text/plain": "'111101'"
     },
     "metadata": {},
     "execution_count": 5
    }
   ],
   "source": [
    "import numpy as np\n",
    "A=244\n",
    "B=A>>2\n",
    "#print(B)\n",
    "#np.binary_repr(A)\n",
    "np.binary_repr(B)"
   ]
  },
  {
   "cell_type": "code",
   "execution_count": 4,
   "metadata": {
    "tags": []
   },
   "outputs": [
    {
     "output_type": "stream",
     "name": "stdout",
     "text": [
      "kunal\n"
     ]
    }
   ],
   "source": [
    "k=False\n",
    "if(not(k)):\n",
    "    print('kunal')"
   ]
  },
  {
   "cell_type": "code",
   "execution_count": 12,
   "metadata": {
    "tags": []
   },
   "outputs": [
    {
     "output_type": "stream",
     "name": "stdout",
     "text": "60\n"
    }
   ],
   "source": [
    "i = 15\n",
    "j= 20\n",
    "i = i<<2\n",
    "print(i)"
   ]
  },
  {
   "cell_type": "code",
   "execution_count": 13,
   "metadata": {
    "tags": []
   },
   "outputs": [
    {
     "output_type": "execute_result",
     "data": {
      "text/plain": [
       "12"
      ]
     },
     "metadata": {},
     "execution_count": 13
    }
   ],
   "source": [
    "import math\n",
    "math.ceil(23/2)"
   ]
  },
  {
   "cell_type": "code",
   "execution_count": 3,
   "metadata": {},
   "outputs": [
    {
     "output_type": "stream",
     "name": "stdout",
     "text": [
      "0\n"
     ]
    }
   ],
   "source": [
    "import numpy as np\n",
    "import copy\n",
    "struc_ele=np.array([[0,140,255],[255,255,255],[255,255,255]],'uint8')\n",
    "struc_ele2=np.array([[255,140,255],[255,255,255],[2,25,55]])\n",
    "\n",
    "# struc_ele1=struc_ele.copy()\n",
    "# struc_ele[0][0]=210\n",
    "# print(struc_ele1)\n",
    "# struc_ele1[0][1]=100\n",
    "# print(struc_ele1)\n",
    "# struc_ele1=copy.deepcopy(struc_ele2)\n",
    "struc_ele[0][0]=struc_ele[0][0]-256\n",
    "print(struc_ele[0][0])\n",
    "# if(struc_ele[0][0]==struc_ele2[0][0]):\n",
    "#     print('Kunal')"
   ]
  },
  {
   "cell_type": "code",
   "execution_count": 8,
   "metadata": {},
   "outputs": [
    {
     "output_type": "stream",
     "name": "stdout",
     "text": [
      "0001100100001010\n100\n"
     ]
    }
   ],
   "source": [
    "string=format(25,'08b')\n",
    "string+=format(10,'08b')\n",
    "num=0\n",
    "print(string)\n",
    "k=int(string[num:num+10],2)\n"
   ]
  },
  {
   "cell_type": "code",
   "execution_count": 3,
   "metadata": {},
   "outputs": [
    {
     "output_type": "stream",
     "name": "stdout",
     "text": [
      "0\n"
     ]
    }
   ],
   "source": [
    "a=255 and 0\n",
    "print(a)"
   ]
  },
  {
   "cell_type": "code",
   "execution_count": 1,
   "metadata": {},
   "outputs": [
    {
     "output_type": "error",
     "ename": "TypeError",
     "evalue": "'str' object does not support item assignment",
     "traceback": [
      "\u001b[1;31m---------------------------------------------------------------------------\u001b[0m",
      "\u001b[1;31mTypeError\u001b[0m                                 Traceback (most recent call last)",
      "\u001b[1;32m<ipython-input-1-a18cfce0a8b2>\u001b[0m in \u001b[0;36m<module>\u001b[1;34m\u001b[0m\n\u001b[0;32m      1\u001b[0m \u001b[0mtemp\u001b[0m\u001b[1;33m=\u001b[0m\u001b[1;34m'11001101'\u001b[0m\u001b[1;33m\u001b[0m\u001b[1;33m\u001b[0m\u001b[0m\n\u001b[1;32m----> 2\u001b[1;33m \u001b[0mtemp\u001b[0m\u001b[1;33m[\u001b[0m\u001b[1;36m7\u001b[0m\u001b[1;33m]\u001b[0m\u001b[1;33m=\u001b[0m\u001b[1;34m'0'\u001b[0m\u001b[1;33m\u001b[0m\u001b[1;33m\u001b[0m\u001b[0m\n\u001b[0m\u001b[0;32m      3\u001b[0m \u001b[0mprint\u001b[0m\u001b[1;33m(\u001b[0m\u001b[0mtemp\u001b[0m\u001b[1;33m)\u001b[0m\u001b[1;33m\u001b[0m\u001b[1;33m\u001b[0m\u001b[0m\n",
      "\u001b[1;31mTypeError\u001b[0m: 'str' object does not support item assignment"
     ]
    }
   ],
   "source": [
    "temp='11001101'\n",
    "temp[7]='0'\n",
    "print(temp)"
   ]
  },
  {
   "cell_type": "code",
   "execution_count": 1,
   "metadata": {},
   "outputs": [
    {
     "output_type": "stream",
     "name": "stdout",
     "text": [
      "[[0.11111111 0.11111111 0.11111111]\n [0.11111111 0.11111111 0.11111111]\n [0.11111111 0.11111111 0.11111111]]\n"
     ]
    }
   ],
   "source": [
    "import numpy as np\n",
    "kernel = 1/9 * np.array([[ 1, 1, 1],\n",
    "                          [ 1, 1, 1],\n",
    "                          [ 1, 1, 1]]) \n",
    "print(kernel)"
   ]
  },
  {
   "cell_type": "code",
   "execution_count": 1,
   "metadata": {},
   "outputs": [
    {
     "output_type": "stream",
     "name": "stdout",
     "text": [
      "1\n<class 'numpy.ndarray'>\n"
     ]
    }
   ],
   "source": [
    "import numpy as np\n",
    "kernel = 1/9 * np.array([[ 1, 1, 1],\n",
    "                          [ 1, 1, 1],\n",
    "                          [ 1, 1, 1]])\n",
    "print(int(kernel.shape[0]/2))\n",
    "print(type(kernel))"
   ]
  },
  {
   "cell_type": "code",
   "execution_count": 17,
   "metadata": {},
   "outputs": [
    {
     "output_type": "stream",
     "name": "stdout",
     "text": [
      "[1, 1, 2, 3, 4, 4]\n[1, 1, 2, 3, 4, 4]\n"
     ]
    }
   ],
   "source": [
    "list=[1,2,3,4]\n",
    "list1=[0,5,7,2]\n",
    "list.insert(0,list[0])\n",
    "list.append(list[len(list)-1])\n",
    "print(list)\n",
    "list1=list\n",
    "print(list1)"
   ]
  },
  {
   "cell_type": "code",
   "execution_count": 15,
   "metadata": {},
   "outputs": [
    {
     "output_type": "stream",
     "name": "stdout",
     "text": [
      "[[1, 5, 9], [7, 8, 0], [5, 3, 1]]\n[[1, 5, 9], [7, 8, 0], [5, 3, 1]]\n"
     ]
    }
   ],
   "source": [
    "import numpy as np\n",
    "list1=([[1,5,9],[7,8,0],[5,3,1]])\n",
    "print(list1)\n",
    "list2=[5,5,5]\n",
    "list1[0:3][0]=list2\n",
    "print(list1)\n"
   ]
  },
  {
   "cell_type": "code",
   "execution_count": 2,
   "metadata": {},
   "outputs": [
    {
     "output_type": "stream",
     "name": "stdout",
     "text": [
      "[[1 5 9]\n [2 3 6]\n [7 8 0]\n [5 3 1]]\n[[1. 1. 1. 1. 5. 9. 9. 9. 9.]\n [1. 1. 1. 1. 5. 9. 9. 9. 9.]\n [1. 1. 1. 1. 5. 9. 9. 9. 9.]\n [1. 1. 1. 1. 5. 9. 9. 9. 9.]\n [2. 2. 2. 2. 3. 6. 6. 6. 6.]\n [7. 7. 7. 7. 8. 0. 0. 0. 0.]\n [5. 5. 5. 5. 3. 1. 1. 1. 1.]\n [5. 5. 5. 5. 3. 1. 1. 1. 1.]\n [5. 5. 5. 5. 3. 1. 1. 1. 1.]\n [5. 5. 5. 5. 3. 1. 1. 1. 1.]]\n"
     ]
    }
   ],
   "source": [
    "import numpy as np\n",
    "def duplicate_padding(arr,size):\n",
    "    list1=[]\n",
    "    list2=[]\n",
    "    list3=[]\n",
    "    list4=[]\n",
    "\n",
    "    for i in range (size,arr.shape[1]-size):\n",
    "        list1.append(arr[size][i])\n",
    "\n",
    "    for i in range(size-1,-1,-1):\n",
    "        list1.insert(0,list1[0])\n",
    "        list1.append(list1[len(list1)-1])\n",
    "        arr[i][i:i+len(list1)]=list1\n",
    "\n",
    "\n",
    "    for i in range (size,arr.shape[0]-size):\n",
    "        list2.append(arr[i][size])\n",
    "\n",
    "    for i in range(size-1,-1,-1):\n",
    "        list2.insert(0,list2[0])\n",
    "        list2.append(list2[len(list2)-1])\n",
    "        index=0\n",
    "        for j in range(i,i+len(list2)):\n",
    "            arr[j][i]=list2[index]\n",
    "            index+=1\n",
    "\n",
    "\n",
    "    \n",
    "    for i in range (size,arr.shape[1]-size):\n",
    "        list3.append(arr[arr.shape[0]-size-1][i])\n",
    "    t=size-1\n",
    "    for i in range(arr.shape[0]-size,arr.shape[0]):\n",
    "        list3.insert(0,list3[0])\n",
    "        list3.append(list3[len(list3)-1])\n",
    "        arr[i][t:t+len(list3)]=list3\n",
    "        t-=1\n",
    "\n",
    "\n",
    "    for i in range (size,arr.shape[0]-size):\n",
    "        list4.append(arr[i][arr.shape[1]-size-1])\n",
    "\n",
    "    t=size-1\n",
    "    for i in range(arr.shape[1]-size,arr.shape[1]):\n",
    "        list4.insert(0,list4[0])\n",
    "        list4.append(list4[len(list4)-1])\n",
    "        index=0\n",
    "        for j in range(t,t+len(list4)):\n",
    "            arr[j][i]=list4[index]\n",
    "            index+=1\n",
    "        t-=1\n",
    "        \n",
    "    return arr\n",
    "\n",
    "def padding(img,size,type):\n",
    "\n",
    "    # Initialise the Padded Matrix\n",
    "    padded_arr =np.zeros((img.shape[0]+(size*2),img.shape[1]+(size*2)))\n",
    "\n",
    "    # Fill the padded matrix by original image \n",
    "    for i in range (img.shape[0]):\n",
    "        for j in range(img.shape[1]):\n",
    "            padded_arr[i+size][j+size] = img[i][j]\n",
    "\n",
    "    if(type==1):\n",
    "        padded_arr=duplicate_padding(padded_arr,size)\n",
    "\n",
    "    return padded_arr\n",
    "\n",
    "arr=np.array([[1,5,9],[2,3,6],[7,8,0],[5,3,1]])\n",
    "print(arr)\n",
    "print(padding(arr,3,1))"
   ]
  },
  {
   "cell_type": "code",
   "execution_count": 3,
   "metadata": {},
   "outputs": [
    {
     "output_type": "stream",
     "name": "stdout",
     "text": [
      "[[1, 2], [5, 2]]\n"
     ]
    }
   ],
   "source": [
    "arr1=[[1,2],[5,2]]\n",
    "arr2=[[2,6],[8,9]]\n",
    "arr=[arr1,arr2]\n",
    "print(arr[0])"
   ]
  },
  {
   "cell_type": "code",
   "execution_count": 7,
   "metadata": {},
   "outputs": [
    {
     "output_type": "stream",
     "name": "stdout",
     "text": [
      "255\n"
     ]
    }
   ],
   "source": [
    "a= 0 or 0 or 255\n",
    "print(a)"
   ]
  },
  {
   "cell_type": "code",
   "execution_count": 8,
   "metadata": {},
   "outputs": [
    {
     "output_type": "error",
     "ename": "SyntaxError",
     "evalue": "invalid syntax (<ipython-input-8-f405a25ca603>, line 1)",
     "traceback": [
      "\u001b[1;36m  File \u001b[1;32m\"<ipython-input-8-f405a25ca603>\"\u001b[1;36m, line \u001b[1;32m1\u001b[0m\n\u001b[1;33m    if !(False):\u001b[0m\n\u001b[1;37m       ^\u001b[0m\n\u001b[1;31mSyntaxError\u001b[0m\u001b[1;31m:\u001b[0m invalid syntax\n"
     ]
    }
   ],
   "source": [
    "if !(False):\n",
    "    print(1)"
   ]
  },
  {
   "cell_type": "code",
   "execution_count": 27,
   "metadata": {},
   "outputs": [],
   "source": [
    "import numpy as np\n",
    "arr=np.array([[1,2,1],[5,6,5]])\n",
    "arr1=np.zeros(arr.shape,'uint16')\n",
    "for i in range(arr.shape[0]):\n",
    "    for j in range(arr.shape[1]):\n",
    "        arr1[i][j]=arr[i][j]"
   ]
  },
  {
   "cell_type": "code",
   "execution_count": 28,
   "metadata": {},
   "outputs": [
    {
     "output_type": "stream",
     "name": "stdout",
     "text": [
      "[[1 2 1]\n [5 6 5]]\n"
     ]
    }
   ],
   "source": [
    "print(arr1)"
   ]
  },
  {
   "cell_type": "code",
   "execution_count": 29,
   "metadata": {},
   "outputs": [],
   "source": [
    "arr1[0][0]=8"
   ]
  },
  {
   "cell_type": "code",
   "execution_count": 30,
   "metadata": {},
   "outputs": [
    {
     "output_type": "stream",
     "name": "stdout",
     "text": [
      "[[8 2 1]\n [5 6 5]]\n"
     ]
    }
   ],
   "source": [
    "print(arr1)"
   ]
  },
  {
   "cell_type": "code",
   "execution_count": 31,
   "metadata": {},
   "outputs": [
    {
     "output_type": "stream",
     "name": "stdout",
     "text": [
      "[[1 2 1]\n [5 6 5]]\n"
     ]
    }
   ],
   "source": [
    "print(arr)"
   ]
  },
  {
   "cell_type": "code",
   "execution_count": 13,
   "metadata": {},
   "outputs": [
    {
     "output_type": "stream",
     "name": "stdout",
     "text": [
      "[[2. 0. 5. 0. 2. 0. 5.]\n [5. 6. 5. 6. 5. 6. 5.]\n [1. 2. 1. 2. 1. 2. 1.]\n [5. 6. 5. 6. 5. 6. 5.]\n [2. 0. 5. 0. 2. 0. 5.]\n [5. 6. 5. 6. 5. 6. 5.]\n [1. 2. 1. 2. 1. 2. 1.]]\n"
     ]
    }
   ],
   "source": [
    "import numpy as np\n",
    "def mirror_padding(arr, img, size):\n",
    "    row=1\n",
    "    for i in range(size-1,-1,-1):\n",
    "        arr[i][size:size+img.shape[1]]=img[row][0:img.shape[1]]\n",
    "        row+=1\n",
    "\n",
    "    row=img.shape[0]-2\n",
    "    for i in range(size+img.shape[0],size+img.shape[0]+size):\n",
    "        arr[i][size:size+img.shape[1]]=img[row][0:img.shape[1]]\n",
    "        row-=1\n",
    "\n",
    "    col=1\n",
    "    for i in range(size-1,-1,-1):\n",
    "        row=0\n",
    "        for j in range(size,size+img.shape[0]):\n",
    "            arr[j][i]=img[row][col]\n",
    "            row+=1\n",
    "        col+=1\n",
    "    \n",
    "    col=img.shape[1]-2\n",
    "    for i in range(size+img.shape[1],size+img.shape[1]+size):\n",
    "        row=0\n",
    "        for j in range(size,size+img.shape[0]):\n",
    "            arr[j][i]=img[row][col]\n",
    "            row+=1\n",
    "        col-=1\n",
    "\n",
    "    for i in range(size):\n",
    "        for j in range(size):\n",
    "            arr[i][j]= arr[i][size*2 - j]\n",
    "\n",
    "    for i in range(size):\n",
    "        for j in range(size):\n",
    "            arr[i+size+img.shape[0]][j]= arr[i+size+img.shape[0]][size*2 - j]\n",
    "\n",
    "    for i in range(size):\n",
    "        for j in range(size):\n",
    "            arr[i][size*2 +img.shape[1]-1-j] = arr[i][img.shape[0]-1+j]\n",
    "\n",
    "    for i in range(size):\n",
    "        for j in range(size):\n",
    "            arr[i+size+img.shape[0]][size*2 +img.shape[1]-1-j] = arr[i+size+img.shape[0]][img.shape[0]-1+j]\n",
    "\n",
    "    return arr\n",
    "\n",
    "\n",
    "def padding(img, size, type):\n",
    "\n",
    "    # Initialise the Padded Matrix\n",
    "    padded_arr = np.zeros((img.shape[0]+(size*2), img.shape[1]+(size*2)))\n",
    "\n",
    "    # Fill the padded matrix by original image\n",
    "    for i in range(img.shape[0]):\n",
    "        for j in range(img.shape[1]):\n",
    "            padded_arr[i+size][j+size] = img[i][j]\n",
    "\n",
    "    if(type == 1):\n",
    "        padded_arr = duplicate_padding(padded_arr, size)\n",
    "    if(type == 2):\n",
    "        padded_arr = mirror_padding(padded_arr, img, size)\n",
    "\n",
    "    return padded_arr\n",
    "\n",
    "arr=np.array([[1,2,1],[5,6,5],[5,0,2]])\n",
    "padding=padding(arr,2,2)\n",
    "print(padding)"
   ]
  },
  {
   "cell_type": "code",
   "execution_count": 15,
   "metadata": {},
   "outputs": [
    {
     "output_type": "execute_result",
     "data": {
      "text/plain": [
       "numpy.ndarray"
      ]
     },
     "metadata": {},
     "execution_count": 15
    }
   ],
   "source": [
    "import copy\n",
    "import numpy as np\n",
    "rows, cols = (5, 5) \n",
    "arr = [[7 for i in range(cols)] for j in range(rows)]\n",
    "arr=np.array(arr)\n",
    "type(arr)\n",
    "# print(arr)\n",
    "# type(arr1)"
   ]
  },
  {
   "cell_type": "code",
   "execution_count": 18,
   "metadata": {},
   "outputs": [
    {
     "output_type": "stream",
     "name": "stdout",
     "text": [
      "0\n"
     ]
    }
   ],
   "source": [
    "v= 0 and 255\n",
    "print(v)"
   ]
  },
  {
   "cell_type": "code",
   "execution_count": 16,
   "metadata": {},
   "outputs": [
    {
     "output_type": "execute_result",
     "data": {
      "text/plain": [
       "<matplotlib.image.AxesImage at 0x1a9f298>"
      ]
     },
     "metadata": {},
     "execution_count": 16
    },
    {
     "output_type": "display_data",
     "data": {
      "text/plain": "<Figure size 432x288 with 1 Axes>",
      "image/svg+xml": "<?xml version=\"1.0\" encoding=\"utf-8\" standalone=\"no\"?>\r\n<!DOCTYPE svg PUBLIC \"-//W3C//DTD SVG 1.1//EN\"\r\n  \"http://www.w3.org/Graphics/SVG/1.1/DTD/svg11.dtd\">\r\n<!-- Created with matplotlib (https://matplotlib.org/) -->\r\n<svg height=\"118.158844pt\" version=\"1.1\" viewBox=\"0 0 368.925 118.158844\" width=\"368.925pt\" xmlns=\"http://www.w3.org/2000/svg\" xmlns:xlink=\"http://www.w3.org/1999/xlink\">\r\n <metadata>\r\n  <rdf:RDF xmlns:cc=\"http://creativecommons.org/ns#\" xmlns:dc=\"http://purl.org/dc/elements/1.1/\" xmlns:rdf=\"http://www.w3.org/1999/02/22-rdf-syntax-ns#\">\r\n   <cc:Work>\r\n    <dc:type rdf:resource=\"http://purl.org/dc/dcmitype/StillImage\"/>\r\n    <dc:date>2020-12-09T18:19:36.042786</dc:date>\r\n    <dc:format>image/svg+xml</dc:format>\r\n    <dc:creator>\r\n     <cc:Agent>\r\n      <dc:title>Matplotlib v3.3.3, https://matplotlib.org/</dc:title>\r\n     </cc:Agent>\r\n    </dc:creator>\r\n   </cc:Work>\r\n  </rdf:RDF>\r\n </metadata>\r\n <defs>\r\n  <style type=\"text/css\">*{stroke-linecap:butt;stroke-linejoin:round;}</style>\r\n </defs>\r\n <g id=\"figure_1\">\r\n  <g id=\"patch_1\">\r\n   <path d=\"M -0 118.158844 \r\nL 368.925 118.158844 \r\nL 368.925 0 \r\nL -0 0 \r\nz\r\n\" style=\"fill:none;\"/>\r\n  </g>\r\n  <g id=\"axes_1\">\r\n   <g id=\"patch_2\">\r\n    <path d=\"M 26.925 94.280719 \r\nL 361.725 94.280719 \r\nL 361.725 10.580719 \r\nL 26.925 10.580719 \r\nz\r\n\" style=\"fill:#ffffff;\"/>\r\n   </g>\r\n   <g clip-path=\"url(#pf30bafb461)\">\r\n    <image height=\"84\" id=\"image399ab3ff4b\" transform=\"scale(1 -1)translate(0 -84)\" width=\"335\" x=\"27\" xlink:href=\"data:image/png;base64,\r\niVBORw0KGgoAAAANSUhEUgAAAU8AAABUCAYAAAACq7UeAAAcjklEQVR4nO3deVhTV94H8G/uzQIhYUfBBlllUVRkmYICbbFWsTMCbtWxdZxpLbZ2ZuqOduwodW1tO8/guLVqrVXGbbTW0gIVWxWhCiqLgCAFRAHZt5hASM77hy95VBCSm7jh+TxP/oGc5d6b+7vnnnPuuTwABBRFUZRemMddAYqiqKcRDZ4URVEc0OBJURTFAQ2eFEVRHNDgSVEUxQENnhRFURzQ4ElRFMUBDZ4URVEc0OBJURTFAQ2eFEVRHNDgSVEUxQENnhRFURzQ4ElRFMUBDZ4URVEc0OBJURTFAQ2eFEVRHNDgSVEUxQENnhRFURzQ4ElRFMUBDZ4URVEc0OBJURTFgVGDJ4/HM2Z2Rs3P2HV7GhlrHzzsffksHCsu2/iw9suzsL97Yuh28w1JzDAMBg8ejKamJgCAhYUFKioqoNFoOOfp5OSEtrY2tLe3w9raGlVVVVCpVHrnY2NjA7FYjMrKStjb26O9vR11dXWc63U/hrlz3eGyrTKZDBKJBLW1tWAYBq2trVAqlUarWxczMzMIhUIIBAJYW1ujubkZVVVV93zH0dERHR0daG5uhp2dHerq6qBQKHrNVyKRwNXVFSUlJWhra9P+ncfjGfSD9PLyQmdnJ6qqqtDa2sopj67jQggBIY/urdpd265LuQ4ODuDxeKisrOwzX2dnZ7S0tEClUsHKygqVlZXo7Ow0qK5CoRAODg6oq6uDqakpxGIxrl+/zikvmUyGzs5ONDY2YsCAAWhoaIBcLjeofncz5Dy7n0gkwsCBA1FXVwczMzOYmppy3m7AwOBJCEF7eztCQkLAMAwuXLhg8A9WqVRi+PDhcHBwwOnTpznvtPb2dkilUsTGxuLAgQNoaWkxqF4AEBYWhqioKAwaNAgajQYMw4AQArlcjvT0dOzcuVOnfBQKBdzd3fHiiy/i7NmzRqnbgwwZMgSjR4/GuXPnUF1d3WNdnJycEBUVhR9++EGnE1OlUqG5uRnLli3DmjVrYG1tjXfffRdubm5gWVb7g9dXYWEhvvrqK3R0dOiVbujQoZg5cybc3NxACAGfz4darUZ7eztycnKwefNmThfgvjg4OGDOnDkYOnQoGIaBQCCASqWCWq1GQUEBduzYgfr6+nvSxMTEID09HRUVFTqVoVQqMWrUKNjY2CAtLc0oQUSj0aCzsxOTJ09GeXk5CgoKOOelUCggk8kwdepUfPfddwYHdgCYMWMGwsPDIZVKwePxtOdaTU0NTpw4geTkZE75ajQaaDQaTJ8+HdeuXUNhYaFB9TQ4eFZVVWHQoEFgGAa3bt0yOHjeunULfn5+GDp0KA4ePAi1Ws0pn7a2NigUCsyZMweffvqpQS275557Dv/4xz/A4/FQXV2N//73v9qAZ2JigpdffhlOTk746aef8OGHH+LcuXO95ldfXw8TExNMnDgRp0+fRnt7O+e69UYul0MoFGLixIn4+eeftXcId6urq4OtrS3Cw8Oxc+dOnX78SqUSZWVl+OKLL3D69GnU1NRg48aNBrfsPT094e7ujpaWFtTW1vb5fbFYjKVLl8LHxwe5ubn44osvtC1rPp+P4OBg2NvbIy0tDWvWrMHx48cNql8XHo+H9957D5GRkfjll19w+PBhFBcXQ6PRgGVZ+Pj4wNPTE8eOHcOuXbuwe/duAIC5uTn8/Pxw8OBBNDY26lRWdXU1goOD4eXlhcOHDxsleHZ2dqKyshIBAQGoqKjQaV8/SH19PczMzDBx4kRs377doItUUFAQVq9ejYyMDBQXFyMlJUV73pqbm+PVV1/F5MmTMW3aNHz00Ud6txpVKhVu3ryJ4OBgFBYWGvx7NSh4drn7lsVY+Hy+wT8UtVoNkUik99Ww69aTEAIfHx+cPHkS+/fvx5o1a9DU1NQtoOfm5oJlWURHR+PAgQPYsGEDdu3aBaVSCYZherwAlJWVoa6uDlKplPsG6rAdVlZWuHbtWq8nSFdrTd/9XV9fD0tLS7z99tvIyckx+PgXFRVp692Tu4+LtbU1cnNzkZWVhfnz56OyshIajeaeOuTn54PH4yElJQUHDx7Eq6++ikWLFuH27dtgGEav3wXDMNBoNDA3N8fPP/8MjUaDGTNmoLS0tMdyGYbBwYMHcfToUcycORNTp07F2rVrsWvXLp0D5/3lG/P8IoQYLU+NRgOBQKB3Q6drn7Isi7/85S9YtWoVli5disOHD6Ozs7NbfllZWbCwsEBsbCzOnz+PCRMmID8/HyqVSttC7QshBCzLGmW76Wh7D0xMTCASiRAQEIDNmzfjjTfewIIFC1BfX9/jD0StVqOjowMHDhzA2LFjERoairi4OLi4uDwwOBYWFqK0tBS///3vIRaLH8p2WFtb45VXXsGFCxdw8+ZNo+f/8ccf47XXXkN2drbRTkKNRvPAk5DP50MsFsPLywv79+/H4sWLMWnSJFRUVECtVnerQ1deGRkZGDVqFORyOTZv3gxfX19YWlrqXC+GYSCRSDB48GDEx8djz549CAwMxLVr13oslxACtVqNwsJCjBw5Env37sW//vUvPPfcczrfrj8LpFIphEIhpkyZgpdeegljx47Fvn370N7e/sDzrKGhAUuXLsXMmTOxbds2xMTEwMHBASYmJo+8/jR49kChUCAsLAwxMTF444039OpjKSoqwrJly1BfX48lS5b0ejU8deoUfHx8YGZmZoxqd2NnZwdra2tkZWU9lPzDwsK0rcVHQaVSYciQIZg3bx5WrFiBhIQEndPW19dj3bp1OHfuHObNmweRSKRzWo1GAysrK8TExCAhIQH/+c9/dL5YdHR0YO/evfjyyy8hl8shkUh0Lre/a2lpwaxZsxAYGIj33ntPrz7IU6dOISYmBoMHD8brr7/+SAcHu9Dg2QMnJydERETg888/59RSKC8vx4YNG5CWloZ//vOfD/zexYsX0draiqlTpxpS3R4JBAJERkaisrISV69eNXr+XViWfWh538/a2hrjx4/Hjz/+iOzsbL3T19XVYceOHTh69CjWrl2r88wAExMThIeHo6ysDKmpqZwGRc6dO4fk5GQ8//zzEAgEeqfvj0aNGoXw8HCsXbsWDQ0NeqfPzs7GqlWrQAhBVFSU8SvYBxo87yMUCvHHP/4RWVlZBreqEhIS8N133yEkJARWVlbd/n/79m3k5OQgKCjI6HPt+Hw+fHx8kJ+f/9AGpB4lhmEQFhYGiUSC06dPcx5IBIAffvgB27Ztw9ixY+Hg4NDn9728vDBu3DgcPHhQ75kAd0tMTMSsWbNgamrKOY/+QiqV4qOPPsL69et7HMjUlVwux5dffomamhr4+/tDKBQar5J9MMqAUX/i7e0NlUqFlJQUg6ddqNVq/PLLL9qpMz3597//jezsbNjb23ebg2kIR0dHODs745tvvjFano+TpaUlAgMD8fXXX+P27dsG55eRkQGBQNDn7R7DMJgzZw4+++wzNDc3G1RmfX09xGLxIz3Bn1TR0dFISEgwSrdPY2MjTp06BT6fb9DFTV+05XkXlmUxfPhwmJqaGm1CPSEEKpXqgX2fHR0d+PrrrzFjxgyjlNdlxowZOHDgwEOZ3/g4uLu7w9PTE7/99pvR8lSpVH1eIGUyGUJDQ5Gbm2uUMoVC4WPpn3uSSCQShISEoLS01CjzQoE7/dKPMnACNHjew9bWFpGRkcjMzDTotlBfR44cQVRUFOzt7Y2Sn0wmw8SJE402r/FxYxgGy5cvx8mTJx/5xSAuLg4pKSlG7frg+hBBfxEaGgqRSIQbN2487qoY5Nk+ivcRCARgWRZ5eXmPtNzi4mLs3r0bf/7znw0egOHz+Vi4cCE2bdpk0KNnTxoHBwecOnXqkZfr4uKC0tJSo+X3rD5HfjdLS0sUFxd3e/rqaUOD513kcjkuXLgACwuLR1ouIQSHDh2CUqnE9OnT7/kfj8cDy7IP/Nyva8rHsWPHHlHtHz5CCBITE43WMteHnZ0dkpKSHnm5/VlJSQkaGxv1mi72JKLB8y5NTU3IycnBH/7wB6NOwdHleW+5XI4zZ87A398fHh4eEIlE2LhxI3777TcUFRWhtLS02+fq1asoKyvD8uXLIRAI4O/vDxcXF/z0009G60t6EhBC8M033yAmJgZ8vvHGOFmW7TM/kUjU45oAFHdZWVlwdXXFkCFDjJYnj8eDQCDQuWVvjDsAOtp+F0IILl26BDc3N/j7+yMzMxOWlpawt7fXeWe3t7ejsbERjY2NIITA09MTEokERUVFfS4AkpmZieDgYMTGxkKj0eDzzz9HbGwsCCE9lt/198DAQGzZsgUSiQSHDx826qDKk6K6uhqpqamIiIhAUlISRCIRnnvuOZ0vcmq1Go2NjWhoaIBKpYKrqysGDRqEq1ev9vroant7O2xtbR9r/5xarYZAIIBQKOwX087UajUSEhIwbtw4lJeXo6amBgMHDuxxOt+DKBQK1NXVoaWlRfvUWUdHB65evdpnv3hHR4d20RFDBu9o8LxPZWUlVCoVFi5ciGXLlmHUqFGYMWOGThObNRoNbt++jdzcXOTk5MDCwgLe3t6Ii4vTufysrCxYWloiPj7+nvlvDzrIhBCcP38eVVVVmD179kOdEP843b59GwUFBVi+fDlqa2shFAoxd+5cnR5tJYRAoVCgpKQEmZmZYBgG4eHheP/99/tMW11djXHjxmkX93gc5HI5bG1tMWDAgH7zeGdmZiYWLVqE2NhYrFu3DpGRkXjppZd0uhiq1Wq0tLQgIyMDJSUl8PT0xK1bt3D06FGdyq6rq4O/vz9+/vlngwYg+33w5LJzqqurUVhYCEIIjh07plf/oZmZGdzd3fH6669j/PjxGDFihM5phUIhLCwskJCQoPfE4YqKCiQlJcHS0hIsyz7S2QKPSmtrK/Lz86FUKnH+/HmcPn1a57RCoRCurq6IjIzErFmzEBYWplO6iooKeHh4cK1yN1xaOizLYsCAAQ9tDQRDEUI4dRMVFRWhvr4eCoUCW7duxdatW3VOa21tDW9vb8yfPx8qlQp/+tOfdE4rFAphZWVl8KyHJzZ4ikQiCAQCg+ZuMQzzwFWNHkQqlaK2tha7d+/mdJWXy+XIzs5GQ0MDOjs74ePjo/PovVqthlKpxOjRo1FZWanXZHAbGxsMHz4cubm5/XIeoUAggEgkwp49e1BQUKD3ClAdHR0oLCxEQ0MDGIbBsGHDkJaW1me6jz/+GDt27IBQKDTaPEJ9697W1oYbN248lGlaYrHY4NtXlmV1XtWoy6BBg5CWloaMjAxO69k2NDQgLS0NcrkcERERkMlkOnetVFdXw8rKyuDz5IkcMCotLUVFRQUGDBhgUD4BAQFobW3VaycNHDgQNjY2qK2tNWjnVlRU4MCBA4iJidE5jVqt1vbf6PsUilgshqenp1GW8nsSmZqaYtiwYaisrDSoVV1TU4MDBw5g3rx5On2/oKAAeXl5Rmt9dnR06D1Yce3aNZSVlRl9+cLU1FQMGjTI4Gftg4OD9X76auTIkWhoaLjnTQRcXLlyBcXFxQgPD9c5TXJyMiQSicGDwk9k8CwsLATDMAgODjZoVCw0NFTvg3Pjxg0olUp4eHgY3KwPCAjQ6VULd0tMTISrqytkMpnOaXg8njZwZmRk6FvNp4JcLkdubi78/f0NPtlHjBiBmpoanb6r0Wiwc+dOfPjhhwYve2ZhYQG1Wq13C7KmpgZCoRAuLi5GnSd67NgxTJs2Dba2tpzz4PF4CA8P1zt4pqenY/jw4bCzs+NcNnDnDtXV1VWvbq78/Hz4+fkZPCXxiQyeAJCUlAR3d3eDdq5MJsOhQ4f0SqNUKlFSUoLZs2fDxcWFc9lBQUGYNGkS1q9fr1c6QgiOHj2K999/X+fgbWZmhunTp+PkyZNcqvpUUKvVKC8vR0BAgPa1L1x4eXnhtddew+rVq3VOk5ubi9TUVEybNs2gqVIvv/wy9u3bx+nZ/O+//x4jRoyAp6cn5/LvRwjBZ599hrffftugAMplLmxTUxOKioqwfv16g/pyJ0yYADs7O72fptu4cSPmz59vUHx5YoNnXl4eTExMEBQUBIZh9P7ROjs7w9bWVuf3Ct3t2rVryMjIwLvvvsup6yAgIACffPIJVqxYoXda4M6tiKenJwYPHqzT993c3ODo6Iji4mJO5T0tamtrcebMGURERHC6jXZ1dcWqVauQkJCg1x2JQqFAamoqhg4diqCgIE63eyNHjkRkZCTOnj3Lqe8yJycHgYGBiI6Oxu9+9zu9pvX0Jjk5GXPnzsX48ePh4+Oj94pPfn5+UKvVOHLkiN5lnzt3DoWFhfj73//OqUsiMjISixcvxqZNm/RO++OPP2Lu3LmYMGECfHx8OAXwJzZ48ng8qNVqWFhYQCqVYsmSJfDx8dEprZ2dHRYsWID//e9/nN7kJxKJ8O233+LUqVPYsmULQkJCdE7r5+eHlStXYufOnZxfMJWXl4fr169jypQpOn1/8uTJKC4uxrVr1ziV97Tg8/m4ePEivv32W6xevRqTJk3SOa2DgwNWrlyJ/Px87Ws0dMXj8XDz5k3s27cPs2fPxuzZs3W+fRYIBIiOjkZMTAwkEgnnl/15eHggJycHKSkp4PP52LRpE4YNG8Ypr7uNHj0aR44cwa+//opRo0Zh2bJlOrfGPDw8sGHDBqxcuZJT2WKxWDslb926dXBzc9M57WuvvYbY2FgsWrQIt27d0rvskJAQHDx4EOnp6QgMDMSSJUtgY2Ojdz7E0E9MTAx55513CI/HMzivro+vry/54IMPiEwmIyzLkilTppCSkhLy5ptvEpFI9MB05ubm5KOPPiLx8fHEzs6OU9kMw2i3JSwsjFy/fp3ExcURc3PzXtMFBASQzMxM8s4775AXXniBmJubEysrK051CAkJIZcvX9bpu4WFhcTf35/zvvb09CRHjhwhDMPolS43N5dIpVKjHfO+Pjwej7AsSwAQd3d3cv36dbJ3714yYMCAXtNZW1uT7OxssmHDBjJmzBgycOBAYmNjo1fZfD6fACAymYxcunSJnDx5kjg6OvaaxsnJiWRkZJCUlBQik8nIjh07iK+vL6dtX7p0KYmOjiYMwxA+n0/mzJlDSkpKyOzZs4lQKOx1n/V2XI8fP06cnZ0JcOfciY+PJ/n5+eT555/vtT5ubm7k+PHj5G9/+xvn875rn4pEIrJgwQJSVFREoqOjtce4pw/DMOT9998naWlp5OWXXyYhISFEKpUSMzMzvcpOSkoiMpmMACCWlpZk+/bt5MqVK8TPz6/XdHfHBt7//9EgMTExYBgG27ZtM8o0GZZlMW/ePNTX12tfBsUwDAIDA7FmzRpkZmaipqYGiYmJ2iu5VCrFgAEDEBUVBZZlER8fD7FYjIKCAoPnPLq7uyMuLg5tbW0oKSnB999/r13UQCwW45VXXoGNjQ1eeOEFvPXWW9opToaMerMsi+PHj+PEiRO9zn/74IMP4Ofnh6lTp3Le956enli3bh2mTZumV51zc3MxevRozu9YN5S1tTVWrlwJNzc3nD17FqdPn0Z5eTmAO3cPwcHBkMlkeOONNzBt2jSUlJT0+M4hfZmYmGDx4sWIiIjAt99+i0uXLml/Z3w+HyNGjNC+DnnPnj3YunUrOjo6YGtri5UrVyIuLk7nRTF4PB7GjBmD4cOHY+/evdruBoZhEBQUhDVr1iAtLQ319fVITEy851hMnToVWVlZyM3N7XaMGIbB3LlzUV5ejpSUFO05wufzER0djVWrVmH37t2ora3FL7/8on2yycbGBs7OzpgzZw727NmD8vJyKJVKg9flZFkWL730EtasWYPvv/8eDQ0NSEpK0t45WlhYYNKkSXBxcUFzczM++eQTNDQ06D1FimVZvPPOOygsLERqaqo2rUAgwJQpU/Dhhx9i165dqK6uxtmzZ7XbbW5ujrCwMKSnp6OoqOjOrAk8gcHTy8sLUVFRSEhI0J4Md5sxYwaioqLg4OBwz8BBWVkZPvnkE+Tk5AC4MxlWpVIZbd7jK6+8gpkzZ8LFxeWefq+amhqcPXsWn3/+uVHKAe6cNLGxsbC0tMSKFSt6vACwLIsdO3bg8uXLiI+P51zW0xo8u/j6+uLNN9+Et7f3PYtNNDY24tKlS1i7du1DWevR0dER8+fPh6+v7z3voWpra0NOTg4+/fTTbqP6EyZMgK2tLY4ePapTl5KDgwNefPFFFBQU4PLlyz1+Z9asWYiMjMTAgQPvOR/279+v7d+9exI7y7Lw9PSEn58fkpOTe5x5wDAMFi5ciNDQUFhZWWm7KdRqNdLT07FlyxZtI0EkEqGjo8No59lbb72FiIgI2NraareHEILS0lIcO3ZM5yeJ7seyLLy9vTFq1CgkJib2eAHrWpVszJgx92x3a2srtm/fjtTUVMjlcu15YvDtlLFv28eOHUvi4uKIQCAwSn5P68fBwYEcOnRIe1t1/2fo0KEkOTmZmJiYGFTO03Lb3l8+Tk5OZPDgwTofG3t7e07l+Pr6Ei8vr263tCYmJsTDw6PPbqj+9jE1NSUeHh6cfrMikYj4+fkRZ2dnbVx6Ip8wEgqF4PP5/WplIC6am5tx8eJFRERE9HjrPnPmTJw4caLfrBb/rCgvL9d5wKmoqIhzi+5BLVVj3GY/jRQKBeftbm9vx8WLF+/52xM92v6sUygUSE9Ph6ura7e1LF1dXTFw4ECcPHmyXz7H3t/pGhD746O2/cUTGzypOyfOmTNnkJ2djcDAQO1cV5FIhNDQUBw5cgQFBQWPuZYU9WyiwfMJp1arkZiYCFtbW7i7u4NlWfj4+ECpVOLcuXP98jl2inoa0OD5FGhoaMCVK1fw17/+FQ4ODpg1axauXLny2Ee5KepZZpQBo66pDrR/5uE5f/48hg8fjvnz5+PXX3995C+poyjqXkZpeaampiI1NdUYWVG92LdvH2xsbDjPc6MoyniMEjzNzMxgbm5OR8gfMqVSiaampocy4ZuiKP10u20XiUTg8/lgWbbPRQy6Xjkxffp0qFQqHDt2DEVFRX0uuSWVSkEIgUql6hcvtHpUeDweKioqDF75m6Iow3ULnlKpFG5ubggKCkJVVdUDE6rVapibmyM0NBRfffUVNBoN5s2bhzNnzkCpVILH4z1wzUV7e3tkZWUhLy+vW/BkWRYmJibo6OiARCKhgyJ3GTJkCJRKJZycnFBWVma0fG1sbNDQ0AArKyudn7m2sbHB9evX4ejoiPz8fKPVhaKeFt2ebbeysoKjoyNCQ0Nhbm7e66KzFy9exA8//HDP38aPHw9fX99e199sampCWloaSkpKugVHDw8PuLq6ArjzrpG8vLxn/kkjhmEwaNAgeHt74/LlyxgxYgTy8vJQU1NjcAvU2dkZ3t7eUKlUaGtrQ3Z2NhQKRa9pLCwsMHLkSDAMA6lUigsXLtB3m1PPnG7BUyKRQCwWQ61W69wK0Ze1tTWEQiGam5u7nah2dnZQKBTo7OyEmZkZmpqanvknaHg8HszNzdHZ2Ynbt29DIpEAgFFa5TY2NlCpVFAoFJBKpWhtbe3zcU+xWAxTU1M0NjbC3NwchBC9X8NAUU87o6yqRFEU9ayhk+QpiqI4oMGToiiKAxo8KYqiOKDBk6IoigMaPCmKojigwZOiKIoDGjwpiqI4oMGToiiKAxo8KYqiOKDBk6IoigMaPCmKojigwZOiKIoDGjwpiqI4oMGToiiKAxo8KYqiOKDBk6IoigMaPCmKojigwZOiKIoDGjwpiqI4oMGToiiKAxo8KYqiOPg/F+w5peRsx8cAAAAASUVORK5CYII=\" y=\"-10.158844\"/>\r\n   </g>\r\n   <g id=\"matplotlib.axis_1\">\r\n    <g id=\"xtick_1\">\r\n     <g id=\"line2d_1\">\r\n      <defs>\r\n       <path d=\"M 0 0 \r\nL 0 3.5 \r\n\" id=\"m0ce48d474f\" style=\"stroke:#000000;stroke-width:0.8;\"/>\r\n      </defs>\r\n      <g>\r\n       <use style=\"stroke:#000000;stroke-width:0.8;\" x=\"27.3435\" xlink:href=\"#m0ce48d474f\" y=\"94.280719\"/>\r\n      </g>\r\n     </g>\r\n     <g id=\"text_1\">\r\n      <!-- 0 -->\r\n      <g transform=\"translate(24.16225 108.879156)scale(0.1 -0.1)\">\r\n       <defs>\r\n        <path d=\"M 31.78125 66.40625 \r\nQ 24.171875 66.40625 20.328125 58.90625 \r\nQ 16.5 51.421875 16.5 36.375 \r\nQ 16.5 21.390625 20.328125 13.890625 \r\nQ 24.171875 6.390625 31.78125 6.390625 \r\nQ 39.453125 6.390625 43.28125 13.890625 \r\nQ 47.125 21.390625 47.125 36.375 \r\nQ 47.125 51.421875 43.28125 58.90625 \r\nQ 39.453125 66.40625 31.78125 66.40625 \r\nz\r\nM 31.78125 74.21875 \r\nQ 44.046875 74.21875 50.515625 64.515625 \r\nQ 56.984375 54.828125 56.984375 36.375 \r\nQ 56.984375 17.96875 50.515625 8.265625 \r\nQ 44.046875 -1.421875 31.78125 -1.421875 \r\nQ 19.53125 -1.421875 13.0625 8.265625 \r\nQ 6.59375 17.96875 6.59375 36.375 \r\nQ 6.59375 54.828125 13.0625 64.515625 \r\nQ 19.53125 74.21875 31.78125 74.21875 \r\nz\r\n\" id=\"DejaVuSans-48\"/>\r\n       </defs>\r\n       <use xlink:href=\"#DejaVuSans-48\"/>\r\n      </g>\r\n     </g>\r\n    </g>\r\n    <g id=\"xtick_2\">\r\n     <g id=\"line2d_2\">\r\n      <g>\r\n       <use style=\"stroke:#000000;stroke-width:0.8;\" x=\"69.1935\" xlink:href=\"#m0ce48d474f\" y=\"94.280719\"/>\r\n      </g>\r\n     </g>\r\n     <g id=\"text_2\">\r\n      <!-- 50 -->\r\n      <g transform=\"translate(62.831 108.879156)scale(0.1 -0.1)\">\r\n       <defs>\r\n        <path d=\"M 10.796875 72.90625 \r\nL 49.515625 72.90625 \r\nL 49.515625 64.59375 \r\nL 19.828125 64.59375 \r\nL 19.828125 46.734375 \r\nQ 21.96875 47.46875 24.109375 47.828125 \r\nQ 26.265625 48.1875 28.421875 48.1875 \r\nQ 40.625 48.1875 47.75 41.5 \r\nQ 54.890625 34.8125 54.890625 23.390625 \r\nQ 54.890625 11.625 47.5625 5.09375 \r\nQ 40.234375 -1.421875 26.90625 -1.421875 \r\nQ 22.3125 -1.421875 17.546875 -0.640625 \r\nQ 12.796875 0.140625 7.71875 1.703125 \r\nL 7.71875 11.625 \r\nQ 12.109375 9.234375 16.796875 8.0625 \r\nQ 21.484375 6.890625 26.703125 6.890625 \r\nQ 35.15625 6.890625 40.078125 11.328125 \r\nQ 45.015625 15.765625 45.015625 23.390625 \r\nQ 45.015625 31 40.078125 35.4375 \r\nQ 35.15625 39.890625 26.703125 39.890625 \r\nQ 22.75 39.890625 18.8125 39.015625 \r\nQ 14.890625 38.140625 10.796875 36.28125 \r\nz\r\n\" id=\"DejaVuSans-53\"/>\r\n       </defs>\r\n       <use xlink:href=\"#DejaVuSans-53\"/>\r\n       <use x=\"63.623047\" xlink:href=\"#DejaVuSans-48\"/>\r\n      </g>\r\n     </g>\r\n    </g>\r\n    <g id=\"xtick_3\">\r\n     <g id=\"line2d_3\">\r\n      <g>\r\n       <use style=\"stroke:#000000;stroke-width:0.8;\" x=\"111.0435\" xlink:href=\"#m0ce48d474f\" y=\"94.280719\"/>\r\n      </g>\r\n     </g>\r\n     <g id=\"text_3\">\r\n      <!-- 100 -->\r\n      <g transform=\"translate(101.49975 108.879156)scale(0.1 -0.1)\">\r\n       <defs>\r\n        <path d=\"M 12.40625 8.296875 \r\nL 28.515625 8.296875 \r\nL 28.515625 63.921875 \r\nL 10.984375 60.40625 \r\nL 10.984375 69.390625 \r\nL 28.421875 72.90625 \r\nL 38.28125 72.90625 \r\nL 38.28125 8.296875 \r\nL 54.390625 8.296875 \r\nL 54.390625 0 \r\nL 12.40625 0 \r\nz\r\n\" id=\"DejaVuSans-49\"/>\r\n       </defs>\r\n       <use xlink:href=\"#DejaVuSans-49\"/>\r\n       <use x=\"63.623047\" xlink:href=\"#DejaVuSans-48\"/>\r\n       <use x=\"127.246094\" xlink:href=\"#DejaVuSans-48\"/>\r\n      </g>\r\n     </g>\r\n    </g>\r\n    <g id=\"xtick_4\">\r\n     <g id=\"line2d_4\">\r\n      <g>\r\n       <use style=\"stroke:#000000;stroke-width:0.8;\" x=\"152.8935\" xlink:href=\"#m0ce48d474f\" y=\"94.280719\"/>\r\n      </g>\r\n     </g>\r\n     <g id=\"text_4\">\r\n      <!-- 150 -->\r\n      <g transform=\"translate(143.34975 108.879156)scale(0.1 -0.1)\">\r\n       <use xlink:href=\"#DejaVuSans-49\"/>\r\n       <use x=\"63.623047\" xlink:href=\"#DejaVuSans-53\"/>\r\n       <use x=\"127.246094\" xlink:href=\"#DejaVuSans-48\"/>\r\n      </g>\r\n     </g>\r\n    </g>\r\n    <g id=\"xtick_5\">\r\n     <g id=\"line2d_5\">\r\n      <g>\r\n       <use style=\"stroke:#000000;stroke-width:0.8;\" x=\"194.7435\" xlink:href=\"#m0ce48d474f\" y=\"94.280719\"/>\r\n      </g>\r\n     </g>\r\n     <g id=\"text_5\">\r\n      <!-- 200 -->\r\n      <g transform=\"translate(185.19975 108.879156)scale(0.1 -0.1)\">\r\n       <defs>\r\n        <path d=\"M 19.1875 8.296875 \r\nL 53.609375 8.296875 \r\nL 53.609375 0 \r\nL 7.328125 0 \r\nL 7.328125 8.296875 \r\nQ 12.9375 14.109375 22.625 23.890625 \r\nQ 32.328125 33.6875 34.8125 36.53125 \r\nQ 39.546875 41.84375 41.421875 45.53125 \r\nQ 43.3125 49.21875 43.3125 52.78125 \r\nQ 43.3125 58.59375 39.234375 62.25 \r\nQ 35.15625 65.921875 28.609375 65.921875 \r\nQ 23.96875 65.921875 18.8125 64.3125 \r\nQ 13.671875 62.703125 7.8125 59.421875 \r\nL 7.8125 69.390625 \r\nQ 13.765625 71.78125 18.9375 73 \r\nQ 24.125 74.21875 28.421875 74.21875 \r\nQ 39.75 74.21875 46.484375 68.546875 \r\nQ 53.21875 62.890625 53.21875 53.421875 \r\nQ 53.21875 48.921875 51.53125 44.890625 \r\nQ 49.859375 40.875 45.40625 35.40625 \r\nQ 44.1875 33.984375 37.640625 27.21875 \r\nQ 31.109375 20.453125 19.1875 8.296875 \r\nz\r\n\" id=\"DejaVuSans-50\"/>\r\n       </defs>\r\n       <use xlink:href=\"#DejaVuSans-50\"/>\r\n       <use x=\"63.623047\" xlink:href=\"#DejaVuSans-48\"/>\r\n       <use x=\"127.246094\" xlink:href=\"#DejaVuSans-48\"/>\r\n      </g>\r\n     </g>\r\n    </g>\r\n    <g id=\"xtick_6\">\r\n     <g id=\"line2d_6\">\r\n      <g>\r\n       <use style=\"stroke:#000000;stroke-width:0.8;\" x=\"236.5935\" xlink:href=\"#m0ce48d474f\" y=\"94.280719\"/>\r\n      </g>\r\n     </g>\r\n     <g id=\"text_6\">\r\n      <!-- 250 -->\r\n      <g transform=\"translate(227.04975 108.879156)scale(0.1 -0.1)\">\r\n       <use xlink:href=\"#DejaVuSans-50\"/>\r\n       <use x=\"63.623047\" xlink:href=\"#DejaVuSans-53\"/>\r\n       <use x=\"127.246094\" xlink:href=\"#DejaVuSans-48\"/>\r\n      </g>\r\n     </g>\r\n    </g>\r\n    <g id=\"xtick_7\">\r\n     <g id=\"line2d_7\">\r\n      <g>\r\n       <use style=\"stroke:#000000;stroke-width:0.8;\" x=\"278.4435\" xlink:href=\"#m0ce48d474f\" y=\"94.280719\"/>\r\n      </g>\r\n     </g>\r\n     <g id=\"text_7\">\r\n      <!-- 300 -->\r\n      <g transform=\"translate(268.89975 108.879156)scale(0.1 -0.1)\">\r\n       <defs>\r\n        <path d=\"M 40.578125 39.3125 \r\nQ 47.65625 37.796875 51.625 33 \r\nQ 55.609375 28.21875 55.609375 21.1875 \r\nQ 55.609375 10.40625 48.1875 4.484375 \r\nQ 40.765625 -1.421875 27.09375 -1.421875 \r\nQ 22.515625 -1.421875 17.65625 -0.515625 \r\nQ 12.796875 0.390625 7.625 2.203125 \r\nL 7.625 11.71875 \r\nQ 11.71875 9.328125 16.59375 8.109375 \r\nQ 21.484375 6.890625 26.8125 6.890625 \r\nQ 36.078125 6.890625 40.9375 10.546875 \r\nQ 45.796875 14.203125 45.796875 21.1875 \r\nQ 45.796875 27.640625 41.28125 31.265625 \r\nQ 36.765625 34.90625 28.71875 34.90625 \r\nL 20.21875 34.90625 \r\nL 20.21875 43.015625 \r\nL 29.109375 43.015625 \r\nQ 36.375 43.015625 40.234375 45.921875 \r\nQ 44.09375 48.828125 44.09375 54.296875 \r\nQ 44.09375 59.90625 40.109375 62.90625 \r\nQ 36.140625 65.921875 28.71875 65.921875 \r\nQ 24.65625 65.921875 20.015625 65.03125 \r\nQ 15.375 64.15625 9.8125 62.3125 \r\nL 9.8125 71.09375 \r\nQ 15.4375 72.65625 20.34375 73.4375 \r\nQ 25.25 74.21875 29.59375 74.21875 \r\nQ 40.828125 74.21875 47.359375 69.109375 \r\nQ 53.90625 64.015625 53.90625 55.328125 \r\nQ 53.90625 49.265625 50.4375 45.09375 \r\nQ 46.96875 40.921875 40.578125 39.3125 \r\nz\r\n\" id=\"DejaVuSans-51\"/>\r\n       </defs>\r\n       <use xlink:href=\"#DejaVuSans-51\"/>\r\n       <use x=\"63.623047\" xlink:href=\"#DejaVuSans-48\"/>\r\n       <use x=\"127.246094\" xlink:href=\"#DejaVuSans-48\"/>\r\n      </g>\r\n     </g>\r\n    </g>\r\n    <g id=\"xtick_8\">\r\n     <g id=\"line2d_8\">\r\n      <g>\r\n       <use style=\"stroke:#000000;stroke-width:0.8;\" x=\"320.2935\" xlink:href=\"#m0ce48d474f\" y=\"94.280719\"/>\r\n      </g>\r\n     </g>\r\n     <g id=\"text_8\">\r\n      <!-- 350 -->\r\n      <g transform=\"translate(310.74975 108.879156)scale(0.1 -0.1)\">\r\n       <use xlink:href=\"#DejaVuSans-51\"/>\r\n       <use x=\"63.623047\" xlink:href=\"#DejaVuSans-53\"/>\r\n       <use x=\"127.246094\" xlink:href=\"#DejaVuSans-48\"/>\r\n      </g>\r\n     </g>\r\n    </g>\r\n   </g>\r\n   <g id=\"matplotlib.axis_2\">\r\n    <g id=\"ytick_1\">\r\n     <g id=\"line2d_9\">\r\n      <defs>\r\n       <path d=\"M 0 0 \r\nL -3.5 0 \r\n\" id=\"m4857df91b7\" style=\"stroke:#000000;stroke-width:0.8;\"/>\r\n      </defs>\r\n      <g>\r\n       <use style=\"stroke:#000000;stroke-width:0.8;\" x=\"26.925\" xlink:href=\"#m4857df91b7\" y=\"10.999219\"/>\r\n      </g>\r\n     </g>\r\n     <g id=\"text_9\">\r\n      <!-- 0 -->\r\n      <g transform=\"translate(13.5625 14.798437)scale(0.1 -0.1)\">\r\n       <use xlink:href=\"#DejaVuSans-48\"/>\r\n      </g>\r\n     </g>\r\n    </g>\r\n    <g id=\"ytick_2\">\r\n     <g id=\"line2d_10\">\r\n      <g>\r\n       <use style=\"stroke:#000000;stroke-width:0.8;\" x=\"26.925\" xlink:href=\"#m4857df91b7\" y=\"31.924219\"/>\r\n      </g>\r\n     </g>\r\n     <g id=\"text_10\">\r\n      <!-- 25 -->\r\n      <g transform=\"translate(7.2 35.723437)scale(0.1 -0.1)\">\r\n       <use xlink:href=\"#DejaVuSans-50\"/>\r\n       <use x=\"63.623047\" xlink:href=\"#DejaVuSans-53\"/>\r\n      </g>\r\n     </g>\r\n    </g>\r\n    <g id=\"ytick_3\">\r\n     <g id=\"line2d_11\">\r\n      <g>\r\n       <use style=\"stroke:#000000;stroke-width:0.8;\" x=\"26.925\" xlink:href=\"#m4857df91b7\" y=\"52.849219\"/>\r\n      </g>\r\n     </g>\r\n     <g id=\"text_11\">\r\n      <!-- 50 -->\r\n      <g transform=\"translate(7.2 56.648437)scale(0.1 -0.1)\">\r\n       <use xlink:href=\"#DejaVuSans-53\"/>\r\n       <use x=\"63.623047\" xlink:href=\"#DejaVuSans-48\"/>\r\n      </g>\r\n     </g>\r\n    </g>\r\n    <g id=\"ytick_4\">\r\n     <g id=\"line2d_12\">\r\n      <g>\r\n       <use style=\"stroke:#000000;stroke-width:0.8;\" x=\"26.925\" xlink:href=\"#m4857df91b7\" y=\"73.774219\"/>\r\n      </g>\r\n     </g>\r\n     <g id=\"text_12\">\r\n      <!-- 75 -->\r\n      <g transform=\"translate(7.2 77.573437)scale(0.1 -0.1)\">\r\n       <defs>\r\n        <path d=\"M 8.203125 72.90625 \r\nL 55.078125 72.90625 \r\nL 55.078125 68.703125 \r\nL 28.609375 0 \r\nL 18.3125 0 \r\nL 43.21875 64.59375 \r\nL 8.203125 64.59375 \r\nz\r\n\" id=\"DejaVuSans-55\"/>\r\n       </defs>\r\n       <use xlink:href=\"#DejaVuSans-55\"/>\r\n       <use x=\"63.623047\" xlink:href=\"#DejaVuSans-53\"/>\r\n      </g>\r\n     </g>\r\n    </g>\r\n   </g>\r\n   <g id=\"patch_3\">\r\n    <path d=\"M 26.925 94.280719 \r\nL 26.925 10.580719 \r\n\" style=\"fill:none;stroke:#000000;stroke-linecap:square;stroke-linejoin:miter;stroke-width:0.8;\"/>\r\n   </g>\r\n   <g id=\"patch_4\">\r\n    <path d=\"M 361.725 94.280719 \r\nL 361.725 10.580719 \r\n\" style=\"fill:none;stroke:#000000;stroke-linecap:square;stroke-linejoin:miter;stroke-width:0.8;\"/>\r\n   </g>\r\n   <g id=\"patch_5\">\r\n    <path d=\"M 26.925 94.280719 \r\nL 361.725 94.280719 \r\n\" style=\"fill:none;stroke:#000000;stroke-linecap:square;stroke-linejoin:miter;stroke-width:0.8;\"/>\r\n   </g>\r\n   <g id=\"patch_6\">\r\n    <path d=\"M 26.925 10.580719 \r\nL 361.725 10.580719 \r\n\" style=\"fill:none;stroke:#000000;stroke-linecap:square;stroke-linejoin:miter;stroke-width:0.8;\"/>\r\n   </g>\r\n  </g>\r\n </g>\r\n <defs>\r\n  <clipPath id=\"pf30bafb461\">\r\n   <rect height=\"83.7\" width=\"334.8\" x=\"26.925\" y=\"10.580719\"/>\r\n  </clipPath>\r\n </defs>\r\n</svg>\r\n",
      "image/png": "[encoded data removed]"
     },
     "metadata": {
      "needs_background": "light"
     }
    }
   ],
   "source": []
  },
  {
   "cell_type": "code",
   "execution_count": null,
   "metadata": {},
   "outputs": [],
   "source": []
  }
 ]
}