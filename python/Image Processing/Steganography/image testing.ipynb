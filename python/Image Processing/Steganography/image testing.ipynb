{
 "metadata": {
  "language_info": {
   "codemirror_mode": {
    "name": "ipython",
    "version": 3
   },
   "file_extension": ".py",
   "mimetype": "text/x-python",
   "name": "python",
   "nbconvert_exporter": "python",
   "pygments_lexer": "ipython3",
   "version": "3.8.5-final"
  },
  "orig_nbformat": 2,
  "kernelspec": {
   "name": "python_defaultSpec_1599284497402",
   "display_name": "Python 3.8.5 32-bit"
  }
 },
 "nbformat": 4,
 "nbformat_minor": 2,
 "cells": [
  {
   "cell_type": "code",
   "execution_count": 1,
   "metadata": {},
   "outputs": [],
   "source": [
    "import cv2\n",
    "import matplotlib.pyplot as plt\n",
    "import numpy as np"
   ]
  },
  {
   "cell_type": "code",
   "execution_count": 2,
   "metadata": {
    "tags": []
   },
   "outputs": [
    {
     "output_type": "stream",
     "name": "stdout",
     "text": "[[ 35  26  18 ...  42  43  44]\n [ 38  31  24 ...  44  45  46]\n [ 41  36  30 ...  45  45  46]\n ...\n [ 23  23  24 ... 108 106 105]\n [ 23  23  24 ... 108 106 105]\n [ 23  23  24 ... 108 107 105]]\n"
    }
   ],
   "source": [
    "img1= cv2.imread('dog.jpg',0)\n",
    "print(img1)"
   ]
  },
  {
   "cell_type": "code",
   "execution_count": 5,
   "metadata": {
    "tags": []
   },
   "outputs": [
    {
     "output_type": "stream",
     "name": "stdout",
     "text": "[[ 30  14  12 ...  42  42  45]\n [ 32  14  14 ...  42  42  40]\n [ 34  22  16 ...  42  41  42]\n ...\n [ 32  35  38 ... 101 103 104]\n [ 27  33  38 ... 107 103 102]\n [ 23  29  33 ... 112 111 106]]\n"
    }
   ],
   "source": [
    "img2=cv2.resize(img1,(512,512))\n",
    "print(img2)"
   ]
  },
  {
   "cell_type": "code",
   "execution_count": 6,
   "metadata": {
    "tags": []
   },
   "outputs": [
    {
     "output_type": "stream",
     "name": "stdout",
     "text": "[[ 30  30  27 ...  44  45  45]\n [ 30  30  26 ...  44  45  45]\n [ 30  30  27 ...  43  44  44]\n ...\n [ 24  24  25 ... 106 105 105]\n [ 23  23  24 ... 107 106 106]\n [ 23  23  24 ... 107 106 106]]\n"
    }
   ],
   "source": [
    "im3=cv2.resize(img2,(1803,1803))\n",
    "print(im3)"
   ]
  },
  {
   "cell_type": "code",
   "execution_count": null,
   "metadata": {},
   "outputs": [],
   "source": []
  }
 ]
}