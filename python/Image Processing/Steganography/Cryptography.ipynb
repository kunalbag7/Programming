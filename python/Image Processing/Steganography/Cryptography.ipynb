{
 "metadata": {
  "language_info": {
   "codemirror_mode": {
    "name": "ipython",
    "version": 3
   },
   "file_extension": ".py",
   "mimetype": "text/x-python",
   "name": "python",
   "nbconvert_exporter": "python",
   "pygments_lexer": "ipython3",
   "version": "3.8.5-final"
  },
  "orig_nbformat": 2,
  "kernelspec": {
   "name": "python3",
   "display_name": "Python 3.8.5 32-bit",
   "metadata": {
    "interpreter": {
     "hash": "834baf801a1c53efb59c84ebe1561470e0a4bfe40e75c018efef599a6217318e"
    }
   }
  }
 },
 "nbformat": 4,
 "nbformat_minor": 2,
 "cells": [
  {
   "cell_type": "code",
   "execution_count": 5,
   "metadata": {},
   "outputs": [],
   "source": [
    "import crypto\n",
    "import base64"
   ]
  },
  {
   "cell_type": "code",
   "execution_count": 6,
   "metadata": {},
   "outputs": [
    {
     "output_type": "error",
     "ename": "AttributeError",
     "evalue": "module 'crypto' has no attribute 'cipher'",
     "traceback": [
      "\u001b[1;31m---------------------------------------------------------------------------\u001b[0m",
      "\u001b[1;31mAttributeError\u001b[0m                            Traceback (most recent call last)",
      "\u001b[1;32m<ipython-input-6-59522ba75b7b>\u001b[0m in \u001b[0;36m<module>\u001b[1;34m\u001b[0m\n\u001b[1;32m----> 1\u001b[1;33m \u001b[0mcipher\u001b[0m \u001b[1;33m=\u001b[0m \u001b[0mcrypto\u001b[0m\u001b[1;33m.\u001b[0m\u001b[0mcipher\u001b[0m\u001b[1;33m.\u001b[0m\u001b[0mAES\u001b[0m\u001b[1;33m.\u001b[0m\u001b[0mnew\u001b[0m\u001b[1;33m(\u001b[0m\u001b[0msecret_key\u001b[0m\u001b[1;33m,\u001b[0m\u001b[0mcrypto\u001b[0m\u001b[1;33m.\u001b[0m\u001b[0mcipher\u001b[0m\u001b[1;33m.\u001b[0m\u001b[0mAES\u001b[0m\u001b[1;33m.\u001b[0m\u001b[0mMODE_ECB\u001b[0m\u001b[1;33m)\u001b[0m \u001b[1;31m# never use ECB in strong systems obviously\u001b[0m\u001b[1;33m\u001b[0m\u001b[1;33m\u001b[0m\u001b[0m\n\u001b[0m\u001b[0;32m      2\u001b[0m \u001b[0mencoded\u001b[0m \u001b[1;33m=\u001b[0m \u001b[0mbase64\u001b[0m\u001b[1;33m.\u001b[0m\u001b[0mb64encode\u001b[0m\u001b[1;33m(\u001b[0m\u001b[0mcrypto\u001b[0m\u001b[1;33m.\u001b[0m\u001b[0mcipher\u001b[0m\u001b[1;33m.\u001b[0m\u001b[0mencrypt\u001b[0m\u001b[1;33m(\u001b[0m\u001b[0mmsg_text\u001b[0m\u001b[1;33m)\u001b[0m\u001b[1;33m)\u001b[0m\u001b[1;33m\u001b[0m\u001b[1;33m\u001b[0m\u001b[0m\n\u001b[0;32m      3\u001b[0m \u001b[1;31m# ...\u001b[0m\u001b[1;33m\u001b[0m\u001b[1;33m\u001b[0m\u001b[1;33m\u001b[0m\u001b[0m\n\u001b[0;32m      4\u001b[0m \u001b[0mdecoded\u001b[0m \u001b[1;33m=\u001b[0m \u001b[0mcrypto\u001b[0m\u001b[1;33m.\u001b[0m\u001b[0mcipher\u001b[0m\u001b[1;33m.\u001b[0m\u001b[0mdecrypt\u001b[0m\u001b[1;33m(\u001b[0m\u001b[0mbaes64\u001b[0m\u001b[1;33m.\u001b[0m\u001b[0mb64decode\u001b[0m\u001b[1;33m(\u001b[0m\u001b[0mmsg_text\u001b[0m\u001b[1;33m)\u001b[0m\u001b[1;33m)\u001b[0m\u001b[1;33m\u001b[0m\u001b[1;33m\u001b[0m\u001b[0m\n",
      "\u001b[1;31mAttributeError\u001b[0m: module 'crypto' has no attribute 'cipher'"
     ]
    }
   ],
   "source": [
    "cipher = crypto.cipher.AES.new(secret_key,crypto.cipher.AES.MODE_ECB) # never use ECB in strong systems obviously\n",
    "encoded = base64.b64encode(crypto.cipher.encrypt(msg_text))\n",
    "# ...\n",
    "decoded = crypto.cipher.decrypt(baes64.b64decode(msg_text))"
   ]
  },
  {
   "cell_type": "code",
   "execution_count": null,
   "metadata": {},
   "outputs": [],
   "source": []
  }
 ]
}