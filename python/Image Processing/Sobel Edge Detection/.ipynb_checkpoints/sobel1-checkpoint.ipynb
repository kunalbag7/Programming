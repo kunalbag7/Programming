{
 "metadata": {
  "language_info": {
   "codemirror_mode": {
    "name": "ipython",
    "version": 3
   },
   "file_extension": ".py",
   "mimetype": "text/x-python",
   "name": "python",
   "nbconvert_exporter": "python",
   "pygments_lexer": "ipython3",
   "version": "3.8.5-final"
  },
  "orig_nbformat": 2,
  "kernelspec": {
   "name": "python_defaultSpec_1599190844801",
   "display_name": "Python 3.8.5 32-bit"
  }
 },
 "nbformat": 4,
 "nbformat_minor": 2,
 "cells": [
  {
   "cell_type": "code",
   "execution_count": 1,
   "metadata": {},
   "outputs": [],
   "source": [
    "import cv2\n",
    "import numpy as np\n"
   ]
  },
  {
   "cell_type": "code",
   "execution_count": 12,
   "metadata": {
    "tags": []
   },
   "outputs": [
    {
     "output_type": "stream",
     "name": "stdout",
     "text": "[[162 162 162 ... 170 155 128]\n [162 162 162 ... 170 155 128]\n [162 162 162 ... 170 155 128]\n ...\n [ 43  43  50 ... 104 100  98]\n [ 44  44  55 ... 104 105 108]\n [ 44  44  55 ... 104 105 108]]\n"
    }
   ],
   "source": [
    "img = cv2.imread('Lenna.png')\n",
    "gray = cv2.cvtColor(img, cv2.COLOR_BGR2GRAY)\n",
    "print(img)"
   ]
  },
  {
   "cell_type": "code",
   "execution_count": 11,
   "metadata": {
    "tags": []
   },
   "outputs": [
    {
     "output_type": "stream",
     "name": "stdout",
     "text": "[[162 162 162 ... 164 153 147]\n [162 162 162 ... 164 153 147]\n [162 162 162 ... 164 153 147]\n ...\n [ 46  47  49 ... 101 101 101]\n [ 45  47  50 ... 103 104 104]\n [ 45  47  50 ... 103 105 105]]\n"
    }
   ],
   "source": [
    "img_gaussian = cv2.GaussianBlur(gray,(5,5),0)\n",
    "print(img_gaussian)"
   ]
  },
  {
   "cell_type": "code",
   "execution_count": 7,
   "metadata": {},
   "outputs": [],
   "source": [
    "#canny\n",
    "img_canny = cv2.Canny(img,100,200)"
   ]
  },
  {
   "cell_type": "code",
   "execution_count": 13,
   "metadata": {
    "tags": []
   },
   "outputs": [
    {
     "output_type": "stream",
     "name": "stdout",
     "text": "[[ 0  0  0 ...  0  0  0]\n [ 0  0  0 ...  0  0  0]\n [ 0  0  0 ...  0  0  0]\n ...\n [ 0 12 12 ...  6  0  0]\n [ 0 18 16 ... 10  4  0]\n [ 0 20 18 ... 12  6  0]]\n"
    }
   ],
   "source": [
    "#sobel\n",
    "img_sobelx = cv2.Sobel(img_gaussian,cv2.CV_8U,1,0,ksize=3)\n",
    "img_sobely = cv2.Sobel(img_gaussian,cv2.CV_8U,0,1,ksize=3)\n",
    "img_sobel = img_sobelx + img_sobely\n",
    "print(img_sobelx)"
   ]
  },
  {
   "cell_type": "code",
   "execution_count": 9,
   "metadata": {},
   "outputs": [],
   "source": [
    "#prewitt\n",
    "kernelx = np.array([[1,2,1],[0,0,0],[-1,-2,-1]])\n",
    "kernely = np.array([[-1,0,1],[-1,0,1],[-1,0,1]])\n",
    "img_prewittx = cv2.filter2D(img_gaussian, -1, kernelx)\n",
    "img_prewitty = cv2.filter2D(img_gaussian, -1, kernely)"
   ]
  },
  {
   "cell_type": "code",
   "execution_count": 10,
   "metadata": {},
   "outputs": [],
   "source": [
    "# cv2.imshow(\"Original Image\", img)\n",
    "# cv2.imshow(\"Canny\", img_canny)\n",
    "cv2.imshow(\"Sobel X\", img_sobelx)\n",
    "cv2.imshow(\"Sobel Y\", img_sobely)\n",
    "cv2.imshow(\"Sobel\", img_sobel)\n",
    "# cv2.imshow(\"Prewitt X\", img_prewittx)\n",
    "# cv2.imshow(\"Prewitt Y\", img_prewitty)\n",
    "# cv2.imshow(\"Prewitt\", img_prewittx + img_prewitty)\n",
    "\n",
    "\n",
    "cv2.waitKey(0)\n",
    "cv2.destroyAllWindows()"
   ]
  },
  {
   "cell_type": "code",
   "execution_count": null,
   "metadata": {},
   "outputs": [],
   "source": []
  }
 ]
}